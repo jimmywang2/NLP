{
  "nbformat": 4,
  "nbformat_minor": 0,
  "metadata": {
    "kernelspec": {
      "display_name": "Python 3",
      "language": "python",
      "name": "python3"
    },
    "language_info": {
      "codemirror_mode": {
        "name": "ipython",
        "version": 3
      },
      "file_extension": ".py",
      "mimetype": "text/x-python",
      "name": "python",
      "nbconvert_exporter": "python",
      "pygments_lexer": "ipython3",
      "version": "3.7.4"
    },
    "colab": {
      "name": "「nnModule_HW7.ipynb」的副本",
      "provenance": []
    }
  },
  "cells": [
    {
      "cell_type": "markdown",
      "metadata": {
        "id": "_rVaeLulYV-Z"
      },
      "source": [
        "## 第一部分：了解 nn.Module的基本操作"
      ]
    },
    {
      "cell_type": "code",
      "metadata": {
        "id": "MFbdwwzNYV-d"
      },
      "source": [
        "import torch\n",
        "import torch.nn as nn\n",
        "import torchvision.models as models\n",
        "import torch.nn.functional as F\n",
        "import numpy as np"
      ],
      "execution_count": null,
      "outputs": []
    },
    {
      "cell_type": "code",
      "metadata": {
        "id": "lJS_iexGYV-e"
      },
      "source": [
        "model = models.resnet18()"
      ],
      "execution_count": null,
      "outputs": []
    },
    {
      "cell_type": "markdown",
      "metadata": {
        "id": "8bt0Dxh2YV-e"
      },
      "source": [
        "### 打印出 model底下所有 parameters 的 name 以及對應的 shape "
      ]
    },
    {
      "cell_type": "code",
      "metadata": {
        "id": "7lfJPokZYV-f",
        "colab": {
          "base_uri": "https://localhost:8080/"
        },
        "outputId": "af3bddab-19d7-4ef7-d9d5-869aa62026b0"
      },
      "source": [
        "for name, param in model.named_parameters():\n",
        "    print(name, param.shape)"
      ],
      "execution_count": null,
      "outputs": [
        {
          "output_type": "stream",
          "text": [
            "conv1.weight torch.Size([64, 3, 7, 7])\n",
            "bn1.weight torch.Size([64])\n",
            "bn1.bias torch.Size([64])\n",
            "layer1.0.conv1.weight torch.Size([64, 64, 3, 3])\n",
            "layer1.0.bn1.weight torch.Size([64])\n",
            "layer1.0.bn1.bias torch.Size([64])\n",
            "layer1.0.conv2.weight torch.Size([64, 64, 3, 3])\n",
            "layer1.0.bn2.weight torch.Size([64])\n",
            "layer1.0.bn2.bias torch.Size([64])\n",
            "layer1.1.conv1.weight torch.Size([64, 64, 3, 3])\n",
            "layer1.1.bn1.weight torch.Size([64])\n",
            "layer1.1.bn1.bias torch.Size([64])\n",
            "layer1.1.conv2.weight torch.Size([64, 64, 3, 3])\n",
            "layer1.1.bn2.weight torch.Size([64])\n",
            "layer1.1.bn2.bias torch.Size([64])\n",
            "layer2.0.conv1.weight torch.Size([128, 64, 3, 3])\n",
            "layer2.0.bn1.weight torch.Size([128])\n",
            "layer2.0.bn1.bias torch.Size([128])\n",
            "layer2.0.conv2.weight torch.Size([128, 128, 3, 3])\n",
            "layer2.0.bn2.weight torch.Size([128])\n",
            "layer2.0.bn2.bias torch.Size([128])\n",
            "layer2.0.downsample.0.weight torch.Size([128, 64, 1, 1])\n",
            "layer2.0.downsample.1.weight torch.Size([128])\n",
            "layer2.0.downsample.1.bias torch.Size([128])\n",
            "layer2.1.conv1.weight torch.Size([128, 128, 3, 3])\n",
            "layer2.1.bn1.weight torch.Size([128])\n",
            "layer2.1.bn1.bias torch.Size([128])\n",
            "layer2.1.conv2.weight torch.Size([128, 128, 3, 3])\n",
            "layer2.1.bn2.weight torch.Size([128])\n",
            "layer2.1.bn2.bias torch.Size([128])\n",
            "layer3.0.conv1.weight torch.Size([256, 128, 3, 3])\n",
            "layer3.0.bn1.weight torch.Size([256])\n",
            "layer3.0.bn1.bias torch.Size([256])\n",
            "layer3.0.conv2.weight torch.Size([256, 256, 3, 3])\n",
            "layer3.0.bn2.weight torch.Size([256])\n",
            "layer3.0.bn2.bias torch.Size([256])\n",
            "layer3.0.downsample.0.weight torch.Size([256, 128, 1, 1])\n",
            "layer3.0.downsample.1.weight torch.Size([256])\n",
            "layer3.0.downsample.1.bias torch.Size([256])\n",
            "layer3.1.conv1.weight torch.Size([256, 256, 3, 3])\n",
            "layer3.1.bn1.weight torch.Size([256])\n",
            "layer3.1.bn1.bias torch.Size([256])\n",
            "layer3.1.conv2.weight torch.Size([256, 256, 3, 3])\n",
            "layer3.1.bn2.weight torch.Size([256])\n",
            "layer3.1.bn2.bias torch.Size([256])\n",
            "layer4.0.conv1.weight torch.Size([512, 256, 3, 3])\n",
            "layer4.0.bn1.weight torch.Size([512])\n",
            "layer4.0.bn1.bias torch.Size([512])\n",
            "layer4.0.conv2.weight torch.Size([512, 512, 3, 3])\n",
            "layer4.0.bn2.weight torch.Size([512])\n",
            "layer4.0.bn2.bias torch.Size([512])\n",
            "layer4.0.downsample.0.weight torch.Size([512, 256, 1, 1])\n",
            "layer4.0.downsample.1.weight torch.Size([512])\n",
            "layer4.0.downsample.1.bias torch.Size([512])\n",
            "layer4.1.conv1.weight torch.Size([512, 512, 3, 3])\n",
            "layer4.1.bn1.weight torch.Size([512])\n",
            "layer4.1.bn1.bias torch.Size([512])\n",
            "layer4.1.conv2.weight torch.Size([512, 512, 3, 3])\n",
            "layer4.1.bn2.weight torch.Size([512])\n",
            "layer4.1.bn2.bias torch.Size([512])\n",
            "fc.weight torch.Size([1000, 512])\n",
            "fc.bias torch.Size([1000])\n"
          ],
          "name": "stdout"
        }
      ]
    },
    {
      "cell_type": "markdown",
      "metadata": {
        "id": "ce8vfcCQYV-g"
      },
      "source": [
        "### 為了使 forward propagation 加速 並降低 memory 使用量，請將所有 parameters 的requires_grad 關閉，關閉之後執行  forward propagation"
      ]
    },
    {
      "cell_type": "code",
      "metadata": {
        "id": "2Vl-1lQFYV-g"
      },
      "source": [
        "input_ = torch.randn(1, 3, 128, 128)"
      ],
      "execution_count": null,
      "outputs": []
    },
    {
      "cell_type": "code",
      "metadata": {
        "id": "RTTfUrIJYV-g"
      },
      "source": [
        "for param in model.parameters():\n",
        "    param.requires_grad = False"
      ],
      "execution_count": null,
      "outputs": []
    },
    {
      "cell_type": "code",
      "metadata": {
        "id": "RUKv2kHsYV-h",
        "colab": {
          "base_uri": "https://localhost:8080/"
        },
        "outputId": "0ddb950f-f901-4646-a9be-7aac69d2c287"
      },
      "source": [
        "output = model(input_)\n",
        "print(output.shape)"
      ],
      "execution_count": null,
      "outputs": [
        {
          "output_type": "stream",
          "text": [
            "torch.Size([1, 1000])\n"
          ],
          "name": "stdout"
        }
      ]
    },
    {
      "cell_type": "markdown",
      "metadata": {
        "id": "lqkeP6ZzYV-h"
      },
      "source": [
        "## 第二部分：依照指令，以較簡潔的方式搭建出模型"
      ]
    },
    {
      "cell_type": "markdown",
      "metadata": {
        "id": "t_4gB0seYV-h"
      },
      "source": [
        "* input_shape = torch.Size([10, 12])\n",
        "* 先經過一層 nn.Linear(12, 10)\n",
        "* 經過10層 nn.Linear(10, 10)\n",
        "* 最後經過 nn.Linear(10, 3) 輸出\n",
        "* 每一個 nn.Linear過完後要先經過 nn.BatchNorm1d 才能到下一層，輸出層不用\n"
      ]
    },
    {
      "cell_type": "code",
      "metadata": {
        "id": "CHVQX0EVYV-h"
      },
      "source": [
        "input_ = torch.randn(10,12)\n",
        "## 示範\n",
        "Linear = nn.Linear(12,10)\n",
        "BN = nn.BatchNorm1d(10)"
      ],
      "execution_count": null,
      "outputs": []
    },
    {
      "cell_type": "code",
      "metadata": {
        "id": "oc8m1p3gYV-h"
      },
      "source": [
        "class Model(nn.Module):\n",
        "    def __init__(self):\n",
        "        super(Model, self).__init__()\n",
        "        self.sequential = nn.Sequential(nn.Linear(12,10), nn.BatchNorm1d(10))\n",
        "        self.repeat_linear = nn.ModuleList([nn.Sequential(nn.Linear(10,10), nn.BatchNorm1d(10)) for _ in range(10)])\n",
        "        self.output = nn.Linear(10, 3)\n",
        "\n",
        "    def forward(self, x):\n",
        "        x = self.sequential(x)\n",
        "        for module in self.repeat_linear:\n",
        "            x = module(x)\n",
        "        x = self.output(x)\n",
        "        return x"
      ],
      "execution_count": null,
      "outputs": []
    },
    {
      "cell_type": "code",
      "metadata": {
        "id": "W2vT8JBWYV-i"
      },
      "source": [
        "model = Model()"
      ],
      "execution_count": null,
      "outputs": []
    },
    {
      "cell_type": "code",
      "metadata": {
        "id": "k2gbAt6OYV-i",
        "outputId": "9a90dcb1-2cbd-474e-eb4f-9c86ef998e58"
      },
      "source": [
        "model"
      ],
      "execution_count": null,
      "outputs": [
        {
          "output_type": "execute_result",
          "data": {
            "text/plain": [
              "Model(\n",
              "  (sequential): Sequential(\n",
              "    (0): Linear(in_features=12, out_features=10, bias=True)\n",
              "    (1): BatchNorm1d(10, eps=1e-05, momentum=0.1, affine=True, track_running_stats=True)\n",
              "  )\n",
              "  (repeat_linear): ModuleList(\n",
              "    (0): Sequential(\n",
              "      (0): Linear(in_features=10, out_features=10, bias=True)\n",
              "      (1): BatchNorm1d(10, eps=1e-05, momentum=0.1, affine=True, track_running_stats=True)\n",
              "    )\n",
              "    (1): Sequential(\n",
              "      (0): Linear(in_features=10, out_features=10, bias=True)\n",
              "      (1): BatchNorm1d(10, eps=1e-05, momentum=0.1, affine=True, track_running_stats=True)\n",
              "    )\n",
              "    (2): Sequential(\n",
              "      (0): Linear(in_features=10, out_features=10, bias=True)\n",
              "      (1): BatchNorm1d(10, eps=1e-05, momentum=0.1, affine=True, track_running_stats=True)\n",
              "    )\n",
              "    (3): Sequential(\n",
              "      (0): Linear(in_features=10, out_features=10, bias=True)\n",
              "      (1): BatchNorm1d(10, eps=1e-05, momentum=0.1, affine=True, track_running_stats=True)\n",
              "    )\n",
              "    (4): Sequential(\n",
              "      (0): Linear(in_features=10, out_features=10, bias=True)\n",
              "      (1): BatchNorm1d(10, eps=1e-05, momentum=0.1, affine=True, track_running_stats=True)\n",
              "    )\n",
              "    (5): Sequential(\n",
              "      (0): Linear(in_features=10, out_features=10, bias=True)\n",
              "      (1): BatchNorm1d(10, eps=1e-05, momentum=0.1, affine=True, track_running_stats=True)\n",
              "    )\n",
              "    (6): Sequential(\n",
              "      (0): Linear(in_features=10, out_features=10, bias=True)\n",
              "      (1): BatchNorm1d(10, eps=1e-05, momentum=0.1, affine=True, track_running_stats=True)\n",
              "    )\n",
              "    (7): Sequential(\n",
              "      (0): Linear(in_features=10, out_features=10, bias=True)\n",
              "      (1): BatchNorm1d(10, eps=1e-05, momentum=0.1, affine=True, track_running_stats=True)\n",
              "    )\n",
              "    (8): Sequential(\n",
              "      (0): Linear(in_features=10, out_features=10, bias=True)\n",
              "      (1): BatchNorm1d(10, eps=1e-05, momentum=0.1, affine=True, track_running_stats=True)\n",
              "    )\n",
              "    (9): Sequential(\n",
              "      (0): Linear(in_features=10, out_features=10, bias=True)\n",
              "      (1): BatchNorm1d(10, eps=1e-05, momentum=0.1, affine=True, track_running_stats=True)\n",
              "    )\n",
              "  )\n",
              "  (output): Linear(in_features=10, out_features=3, bias=True)\n",
              ")"
            ]
          },
          "metadata": {
            "tags": []
          },
          "execution_count": 21
        }
      ]
    },
    {
      "cell_type": "code",
      "metadata": {
        "id": "XxNO43MbYV-i"
      },
      "source": [
        "input_ = torch.randn(10,12)\n",
        "outupt = model(input_)"
      ],
      "execution_count": null,
      "outputs": []
    },
    {
      "cell_type": "code",
      "metadata": {
        "id": "c-3t6hEmYV-j",
        "outputId": "462773b7-da4d-43e6-a616-27c622012ac5"
      },
      "source": [
        "outupt"
      ],
      "execution_count": null,
      "outputs": [
        {
          "output_type": "execute_result",
          "data": {
            "text/plain": [
              "tensor([[-0.6768, -0.0901, -0.0031],\n",
              "        [ 0.4180, -0.4599,  1.8801],\n",
              "        [-0.1755, -0.1612, -0.0391],\n",
              "        [-0.0480,  0.0881, -0.6903],\n",
              "        [-1.3550,  0.7311, -1.3749],\n",
              "        [ 0.2309, -0.4470, -0.0557],\n",
              "        [-0.2988, -0.1650, -0.1030],\n",
              "        [-0.5010, -0.6347, -0.5067],\n",
              "        [ 0.6583, -0.6786,  0.5469],\n",
              "        [ 0.3372, -0.7615,  0.8639]], grad_fn=<AddmmBackward>)"
            ]
          },
          "metadata": {
            "tags": []
          },
          "execution_count": 20
        }
      ]
    },
    {
      "cell_type": "code",
      "metadata": {
        "id": "AkY8NA09YV-j"
      },
      "source": [
        ""
      ],
      "execution_count": null,
      "outputs": []
    }
  ]
}