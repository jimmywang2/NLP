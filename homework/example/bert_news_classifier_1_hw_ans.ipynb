{
  "nbformat": 4,
  "nbformat_minor": 0,
  "metadata": {
    "colab": {
      "name": "bert_news_classifier.ipynb",
      "provenance": [],
      "collapsed_sections": []
    },
    "kernelspec": {
      "name": "python3",
      "display_name": "Python 3"
    },
    "accelerator": "GPU"
  },
  "cells": [
    {
      "cell_type": "code",
      "metadata": {
        "id": "2GDmjOyYMklS",
        "outputId": "d5e54e35-effb-4ba7-b0c0-b3ea0c9c328a",
        "colab": {
          "base_uri": "https://localhost:8080/",
          "height": 34
        }
      },
      "source": [
        "!python --version"
      ],
      "execution_count": null,
      "outputs": [
        {
          "output_type": "stream",
          "text": [
            "Python 3.6.9\n"
          ],
          "name": "stdout"
        }
      ]
    },
    {
      "cell_type": "code",
      "metadata": {
        "id": "1JkVfTP5Qn-1"
      },
      "source": [
        "!pip install -q transformers"
      ],
      "execution_count": null,
      "outputs": []
    },
    {
      "cell_type": "code",
      "metadata": {
        "id": "WKW9s5YtMvop"
      },
      "source": [
        "import pandas as pd\n",
        "import numpy as np\n",
        "\n",
        "import torch\n",
        "import torch.optim as optim\n",
        "from torch.utils.data import Dataset, DataLoader\n",
        "from torch.nn.utils.rnn import pad_sequence\n",
        "\n",
        "from transformers import BertTokenizer, BertForSequenceClassification"
      ],
      "execution_count": null,
      "outputs": []
    },
    {
      "cell_type": "code",
      "metadata": {
        "id": "i8OlmfVQM7UW"
      },
      "source": [
        "df_train = pd.read_csv('news_clustering_train.tsv', sep='\\t')\n",
        "df_test = pd.read_csv('news_clustering_test.tsv', sep='\\t')"
      ],
      "execution_count": null,
      "outputs": []
    },
    {
      "cell_type": "code",
      "metadata": {
        "id": "ivoJVDvnM_Ok"
      },
      "source": [
        "train_titles = {row['index']: row['title'] for _, row in df_train.iterrows()}\n",
        "train_classes = {row['index']: row['class'] for _, row in df_train.iterrows()}\n",
        "\n",
        "valid_titles = {row['index']: row['title'] for _, row in df_test.iterrows()}\n",
        "valid_classes = {row['index']: row['class'] for _, row in df_test.iterrows()}"
      ],
      "execution_count": null,
      "outputs": []
    },
    {
      "cell_type": "code",
      "metadata": {
        "id": "QM8vITkwNMJP"
      },
      "source": [
        "ALL_NEWS_CLASSES = ['體育', '財經', '科技', '旅遊', '農業', '遊戲']"
      ],
      "execution_count": null,
      "outputs": []
    },
    {
      "cell_type": "code",
      "metadata": {
        "id": "ACnCRl2xNV3r"
      },
      "source": [
        "MODEL_NAME = 'bert-base-chinese'"
      ],
      "execution_count": null,
      "outputs": []
    },
    {
      "cell_type": "code",
      "metadata": {
        "id": "rK1yhgITcL3Q"
      },
      "source": [
        "class NewsDataset(Dataset):\n",
        "    def __init__(self, tokenizer, titles, classes):\n",
        "        self.tokenizer = tokenizer\n",
        "        self.indexes = []\n",
        "        self.texts = []\n",
        "        self.labels = []\n",
        "        for index in titles:\n",
        "            self.indexes.append(index)\n",
        "            self.texts.append(titles[index])\n",
        "            self.labels.append(classes[index])\n",
        "\n",
        "    def __getitem__(self, idx):\n",
        "        text = self.texts[idx]\n",
        "\n",
        "        input = self.tokenizer(text, return_tensors='pt')\n",
        "        label = torch.tensor(ALL_NEWS_CLASSES.index(self.labels[idx]))\n",
        "\n",
        "        return input, label\n",
        "\n",
        "    def __len__(self):\n",
        "        return len(self.indexes)\n",
        "\n",
        "\n",
        "def create_mini_batch(samples):\n",
        "    input_ids = []\n",
        "    token_type_ids = []\n",
        "    attention_mask = []\n",
        "    labels = []\n",
        "    for s in samples:\n",
        "        input_ids.append(s[0]['input_ids'].squeeze(0))\n",
        "        token_type_ids.append(s[0]['token_type_ids'].squeeze(0))\n",
        "        attention_mask.append(s[0]['attention_mask'].squeeze(0))\n",
        "        labels.append(s[1])\n",
        "\n",
        "    # zero pad 到同一序列長度\n",
        "    input_ids = pad_sequence(input_ids, batch_first=True)\n",
        "    token_type_ids = pad_sequence(token_type_ids, batch_first=True)\n",
        "    attention_mask = pad_sequence(attention_mask, batch_first=True)\n",
        " \n",
        "    labels = torch.stack(labels)\n",
        "\n",
        "    return input_ids, token_type_ids, attention_mask, labels"
      ],
      "execution_count": null,
      "outputs": []
    },
    {
      "cell_type": "code",
      "metadata": {
        "id": "4cmG8VcfeiNN"
      },
      "source": [
        "batch_size = 32\n",
        "\n",
        "tokenizer = BertTokenizer.from_pretrained(MODEL_NAME)\n",
        "\n",
        "train_dataset = NewsDataset(tokenizer, train_titles, train_classes)\n",
        "valid_dataset = NewsDataset(tokenizer, valid_titles, valid_classes)\n",
        "\n",
        "train_loader = DataLoader(\n",
        "    dataset=train_dataset,\n",
        "    batch_size=batch_size,\n",
        "    collate_fn=create_mini_batch,\n",
        "    shuffle=True)\n",
        "valid_loader = DataLoader(\n",
        "    dataset=valid_dataset,\n",
        "    batch_size=batch_size,\n",
        "    collate_fn=create_mini_batch)"
      ],
      "execution_count": null,
      "outputs": []
    }
  ]
}