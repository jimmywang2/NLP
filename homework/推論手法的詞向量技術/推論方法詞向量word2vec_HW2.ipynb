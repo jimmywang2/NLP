{
 "cells": [
  {
   "cell_type": "markdown",
   "metadata": {},
   "source": [
    "### 作業目的: 了解為何需要推論方法的詞向量及其優缺點\n",
    "本次作業主要為思考題，請學員根據題目思考適合的回答"
   ]
  },
  {
   "cell_type": "markdown",
   "metadata": {},
   "source": [
    "### Question:\n",
    "本次課程學習了word2vec中的兩個模型CBOW與Skip-gram，請學員思考與比較此兩種模型的優缺點?"
   ]
  },
  {
   "cell_type": "markdown",
   "metadata": {},
   "source": [
    "### Answer:\n",
    "\n",
    "* **CBOW**:\n",
    "\n",
    "優點:\n",
    "1. 可以將上下文一併餵入模型，訓練速度較為快速效率較高\n",
    "\n",
    "缺點:\n",
    "1. 因CBOW是利用上下文來預測目標字詞，因此對於出現頻率較少的罕見字詞，效果較差\n",
    "\n",
    "\n",
    "* **Skip-gram**:\n",
    "\n",
    "優點:\n",
    "1. 對於每個中心詞都有K(window size*2)個詞作為output，因此一個字詞會預測K次，更能有效學習context的訊息，因此準確率叫CBOW高\n",
    "2. 對於罕見字詞處理的效果較佳\n",
    "\n",
    "缺點:\n",
    "1. 因為對於每個字詞會預測k次，因此訓練所需的時間與效率都叫CBOW差\n"
   ]
  },
  {
   "cell_type": "code",
   "execution_count": null,
   "metadata": {},
   "outputs": [],
   "source": []
  }
 ],
 "metadata": {
  "kernelspec": {
   "display_name": "Python 3",
   "language": "python",
   "name": "python3"
  },
  "language_info": {
   "codemirror_mode": {
    "name": "ipython",
    "version": 3
   },
   "file_extension": ".py",
   "mimetype": "text/x-python",
   "name": "python",
   "nbconvert_exporter": "python",
   "pygments_lexer": "ipython3",
   "version": "3.7.3"
  }
 },
 "nbformat": 4,
 "nbformat_minor": 2
}
