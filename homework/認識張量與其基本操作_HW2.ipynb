{
  "nbformat": 4,
  "nbformat_minor": 0,
  "metadata": {
    "kernelspec": {
      "display_name": "pytorch_env",
      "language": "python",
      "name": "pytorch_env"
    },
    "language_info": {
      "codemirror_mode": {
        "name": "ipython",
        "version": 3
      },
      "file_extension": ".py",
      "mimetype": "text/x-python",
      "name": "python",
      "nbconvert_exporter": "python",
      "pygments_lexer": "ipython3",
      "version": "3.7.3"
    },
    "colab": {
      "name": "認識張量與其基本操作_HW2.ipynb",
      "provenance": [],
      "collapsed_sections": [],
      "include_colab_link": true
    }
  },
  "cells": [
    {
      "cell_type": "markdown",
      "metadata": {
        "id": "view-in-github",
        "colab_type": "text"
      },
      "source": [
        "<a href=\"https://colab.research.google.com/github/jimmywang2/NLP/blob/main/homework/%E8%AA%8D%E8%AD%98%E5%BC%B5%E9%87%8F%E8%88%87%E5%85%B6%E5%9F%BA%E6%9C%AC%E6%93%8D%E4%BD%9C_HW2.ipynb\" target=\"_parent\"><img src=\"https://colab.research.google.com/assets/colab-badge.svg\" alt=\"Open In Colab\"/></a>"
      ]
    },
    {
      "cell_type": "markdown",
      "metadata": {
        "id": "QI1-m4T9F4xK"
      },
      "source": [
        "### 作業目的: 更加熟習pytorch的tensor操作\n",
        "\n",
        "pytorch中有提供很多的API，讓使用者針對tensor進行各式各樣的操作，本次的作業希望讀者由pytorch的[官方網站](https://pytorch.org/docs/stable/torch.html)中選定四個針對tensor操作的API，對他的使用方法進行範例操作演練。"
      ]
    },
    {
      "cell_type": "markdown",
      "metadata": {
        "id": "i-l4XgwzF4xL"
      },
      "source": [
        "### 選定的API 函數\n",
        "\n",
        "**請寫下選定的API functions**\n",
        "\n",
        "ex:\n",
        "* torch.from_array() / tensor.numpy()\n",
        "* torch.unsqueeze() / torch.squeeze()\n",
        "* tensor.transpose() / tensor.permute()\n",
        "* torch.reshape() / tensor.view()"
      ]
    },
    {
      "cell_type": "code",
      "metadata": {
        "id": "itz6yOdkF4xM"
      },
      "source": [
        "# Import torch and other required modules\n",
        "import torch\n",
        "import numpy as np"
      ],
      "execution_count": 1,
      "outputs": []
    },
    {
      "cell_type": "markdown",
      "metadata": {
        "id": "pzZzT9krF4xM"
      },
      "source": [
        "### 範例:\n",
        "### Function 1 - torch.from_array() / tensor.numpy()"
      ]
    },
    {
      "cell_type": "code",
      "metadata": {
        "colab": {
          "base_uri": "https://localhost:8080/"
        },
        "id": "t7H5fn0_F4xN",
        "outputId": "802387df-9b24-4a33-e178-8ed7cc3fd385"
      },
      "source": [
        "# Example 1 - 將torch tensor與numpy ndarray互相轉換\n",
        "a = np.random.rand(1,2,3,3)\n",
        "print(f'a: {type(a)}, {a.dtype}')\n",
        "b = torch.from_numpy(a)\n",
        "print(f'b: {type(b)}, {b.dtype}')\n",
        "c = torch.tensor(a)\n",
        "print(f'c: {type(c)}, {c.dtype}')\n",
        "d = c.numpy()\n",
        "print(f'd: {type(d)}, {d.dtype}')"
      ],
      "execution_count": 2,
      "outputs": [
        {
          "output_type": "stream",
          "text": [
            "a: <class 'numpy.ndarray'>, float64\n",
            "b: <class 'torch.Tensor'>, torch.float64\n",
            "c: <class 'torch.Tensor'>, torch.float64\n",
            "d: <class 'numpy.ndarray'>, float64\n"
          ],
          "name": "stdout"
        }
      ]
    },
    {
      "cell_type": "code",
      "metadata": {
        "colab": {
          "base_uri": "https://localhost:8080/"
        },
        "id": "BIBuQoByF4xN",
        "outputId": "b3ff3167-cba8-4623-d122-fabd5c65ab54"
      },
      "source": [
        "# Example 2 - 經過轉換後，torch tensor與numpy array依然有相近的資料型態\n",
        "a = np.random.randint(low=0, high=10, size=(2,2))\n",
        "print(f'a: {type(a)}, {a.dtype}')\n",
        "b = torch.from_numpy(a)\n",
        "print(f'b: {type(b)}, {b.dtype}')\n",
        "c = torch.tensor(a)\n",
        "print(f'c: {type(c)}, {c.dtype}')\n",
        "d = c.numpy()\n",
        "print(f'd: {type(d)}, {d.dtype}')"
      ],
      "execution_count": 3,
      "outputs": [
        {
          "output_type": "stream",
          "text": [
            "a: <class 'numpy.ndarray'>, int64\n",
            "b: <class 'torch.Tensor'>, torch.int64\n",
            "c: <class 'torch.Tensor'>, torch.int64\n",
            "d: <class 'numpy.ndarray'>, int64\n"
          ],
          "name": "stdout"
        }
      ]
    },
    {
      "cell_type": "markdown",
      "metadata": {
        "id": "8y-kdgflF4xO"
      },
      "source": [
        "### Function 1 - *your function to illustrate*"
      ]
    },
    {
      "cell_type": "code",
      "metadata": {
        "colab": {
          "base_uri": "https://localhost:8080/"
        },
        "id": "2S5wRMfdF4xO",
        "outputId": "56a9fb2b-88b4-4809-ffc8-49e815a46e88"
      },
      "source": [
        "# Example 1 - ### your explanation ### 將torch tensor與numpy ndarray互相轉換\n",
        "### your code ###\n",
        "a = np.random.rand(1,2,3)\n",
        "print(f'a: {type(a)}, {a.dtype}')\n",
        "b = torch.from_numpy(a)\n",
        "print(f'b: {type(b)}, {b.dtype}')\n",
        "c = torch.tensor(a)\n",
        "print(f'c: {type(c)}, {c.dtype}')\n",
        "d = c.numpy()\n",
        "print(f'd: {type(d)}, {d.dtype}')"
      ],
      "execution_count": 4,
      "outputs": [
        {
          "output_type": "stream",
          "text": [
            "a: <class 'numpy.ndarray'>, float64\n",
            "b: <class 'torch.Tensor'>, torch.float64\n",
            "c: <class 'torch.Tensor'>, torch.float64\n",
            "d: <class 'numpy.ndarray'>, float64\n"
          ],
          "name": "stdout"
        }
      ]
    },
    {
      "cell_type": "code",
      "metadata": {
        "colab": {
          "base_uri": "https://localhost:8080/"
        },
        "id": "SYRPvmpfF4xO",
        "outputId": "19ed6355-3551-411d-9a08-d19e1e6b6132"
      },
      "source": [
        "# Example 2 - ### your explanation ### 經過轉換後，torch tensor與numpy array依然有相近的資料型態\n",
        "### your code ###\n",
        "a = np.random.randint(low=0, high=10, size=(2,1))\n",
        "print(f'a: {type(a)}, {a.dtype}')\n",
        "b = torch.from_numpy(a)\n",
        "print(f'b: {type(b)}, {b.dtype}')\n",
        "c = torch.tensor(a)\n",
        "print(f'c: {type(c)}, {c.dtype}')\n",
        "d = c.numpy()\n",
        "print(f'd: {type(d)}, {d.dtype}')"
      ],
      "execution_count": 5,
      "outputs": [
        {
          "output_type": "stream",
          "text": [
            "a: <class 'numpy.ndarray'>, int64\n",
            "b: <class 'torch.Tensor'>, torch.int64\n",
            "c: <class 'torch.Tensor'>, torch.int64\n",
            "d: <class 'numpy.ndarray'>, int64\n"
          ],
          "name": "stdout"
        }
      ]
    },
    {
      "cell_type": "markdown",
      "metadata": {
        "id": "1RfVSH1nF4xO"
      },
      "source": [
        "### Function 2 - your function to illustrate"
      ]
    },
    {
      "cell_type": "code",
      "metadata": {
        "colab": {
          "base_uri": "https://localhost:8080/"
        },
        "id": "TfKGdc-yF4xP",
        "outputId": "ce01a0b3-e1c4-4ce2-d0c3-37b5a341968c"
      },
      "source": [
        "# Example 1 - ### your explanation ###\n",
        "### your code ###\n",
        "a = torch.tensor([[[1, 2, 3], [3, 4, 5]],\n",
        "\t\t\t\t\t\t\t\t\t[[5, 6, 7], [7, 8, 9]]])\n",
        "print(a.shape)\n",
        "\n",
        "g = torch.unsqueeze(a, dim=1) #增加維度在1的位置\n",
        "print(g.shape)\n",
        "\n",
        "h = torch.squeeze(g) #壓縮為度為1的位置\n",
        "print(h.shape)"
      ],
      "execution_count": 11,
      "outputs": [
        {
          "output_type": "stream",
          "text": [
            "torch.Size([2, 2, 3])\n",
            "torch.Size([2, 1, 2, 3])\n",
            "torch.Size([2, 2, 3])\n"
          ],
          "name": "stdout"
        }
      ]
    },
    {
      "cell_type": "code",
      "metadata": {
        "colab": {
          "base_uri": "https://localhost:8080/"
        },
        "id": "sm0f4S5dF4xP",
        "outputId": "87fe3952-48ce-4b7b-f1ce-7f79db6514b7"
      },
      "source": [
        "# Example 2 - ### your explanation ###\n",
        "### your code ###\n",
        "a = torch.randn((2,3))\n",
        "print(a.shape)\n",
        "\n",
        "g = torch.unsqueeze(a, dim=2) #增加維度在2的位置\n",
        "print(g.shape)\n",
        "\n",
        "h = torch.squeeze(g) #壓縮為度為2的位置\n",
        "print(h.shape)\n"
      ],
      "execution_count": 13,
      "outputs": [
        {
          "output_type": "stream",
          "text": [
            "torch.Size([2, 3])\n",
            "torch.Size([2, 3, 1])\n",
            "torch.Size([2, 3])\n"
          ],
          "name": "stdout"
        }
      ]
    },
    {
      "cell_type": "markdown",
      "metadata": {
        "id": "pXcYaRCBF4xP"
      },
      "source": [
        "### Function 3 - your function to illustrate"
      ]
    },
    {
      "cell_type": "code",
      "metadata": {
        "colab": {
          "base_uri": "https://localhost:8080/"
        },
        "id": "HnjNKyCrF4xP",
        "outputId": "c52ab584-275e-4e9d-f838-8bbe627ab35e"
      },
      "source": [
        "# Example 1 - ### your explanation ###\n",
        "### your code ###\n",
        "a = torch.tensor([[[1, 2, 3], [3, 4, 5]],\n",
        "\t\t\t\t\t\t\t\t\t[[5, 6, 7], [7, 8, 9]]])\n",
        "# 調換tensor維度\n",
        "e = a.permute((0, 2, 1)) # permute 給定輸出的維度順序，如 (0,2,1) 代表輸出的維度順序是原本張量維度的 0,2,1 順序\n",
        "f = a.transpose(1,2) # transpose 將給定維度進行對調，如 (1,2) 將原本的第 1 維與第 2 維進行對調\n",
        "print(a.shape, e.shape, f.shape)\n",
        "print(a, e, f)\n"
      ],
      "execution_count": 20,
      "outputs": [
        {
          "output_type": "stream",
          "text": [
            "torch.Size([2, 2, 3]) torch.Size([2, 3, 2]) torch.Size([2, 3, 2])\n",
            "tensor([[[1, 2, 3],\n",
            "         [3, 4, 5]],\n",
            "\n",
            "        [[5, 6, 7],\n",
            "         [7, 8, 9]]]) tensor([[[1, 3],\n",
            "         [2, 4],\n",
            "         [3, 5]],\n",
            "\n",
            "        [[5, 7],\n",
            "         [6, 8],\n",
            "         [7, 9]]]) tensor([[[1, 3],\n",
            "         [2, 4],\n",
            "         [3, 5]],\n",
            "\n",
            "        [[5, 7],\n",
            "         [6, 8],\n",
            "         [7, 9]]])\n"
          ],
          "name": "stdout"
        }
      ]
    },
    {
      "cell_type": "code",
      "metadata": {
        "colab": {
          "base_uri": "https://localhost:8080/"
        },
        "id": "Kit5kBTCF4xP",
        "outputId": "4b5914cf-b2ad-4cec-c974-5ca9e291b0e8"
      },
      "source": [
        "# Example 2 - ### your explanation ###\n",
        "### your code ###\n",
        "a = torch.tensor([[[1, 2, 3], [3, 4, 5]],\n",
        "\t\t\t\t\t\t\t\t\t[[5, 6, 7], [7, 8, 9]]])\n",
        "# 調換tensor維度\n",
        "e = a.permute((1, 0, 2)) # permute 給定輸出的維度順序, 1,0,2 順序\n",
        "f = a.transpose(0,1) # transpose 將給定維度進行對調，如 (1,2) 將原本的第 0 維與第 1 維進行對調\n",
        "print(a.shape, e.shape, f.shape)\n",
        "print(a, e, f)"
      ],
      "execution_count": 21,
      "outputs": [
        {
          "output_type": "stream",
          "text": [
            "torch.Size([2, 2, 3]) torch.Size([2, 2, 3]) torch.Size([2, 2, 3])\n",
            "tensor([[[1, 2, 3],\n",
            "         [3, 4, 5]],\n",
            "\n",
            "        [[5, 6, 7],\n",
            "         [7, 8, 9]]]) tensor([[[1, 2, 3],\n",
            "         [5, 6, 7]],\n",
            "\n",
            "        [[3, 4, 5],\n",
            "         [7, 8, 9]]]) tensor([[[1, 2, 3],\n",
            "         [5, 6, 7]],\n",
            "\n",
            "        [[3, 4, 5],\n",
            "         [7, 8, 9]]])\n"
          ],
          "name": "stdout"
        }
      ]
    },
    {
      "cell_type": "markdown",
      "metadata": {
        "id": "B1s5kxlDF4xQ"
      },
      "source": [
        "### Function 4 - your function to illustrate"
      ]
    },
    {
      "cell_type": "code",
      "metadata": {
        "colab": {
          "base_uri": "https://localhost:8080/"
        },
        "id": "Df6HWSnKF4xQ",
        "outputId": "45b66dbb-8610-4ad2-e723-072965a2a659"
      },
      "source": [
        "# Example 1 - ### your explanation ### reshape 與 view 皆可以用來改變 tensor 的形狀\n",
        "### your code ###\n",
        "a = torch.tensor([[[1, 2, 3], [3, 4, 5]],\n",
        "\t\t\t\t\t\t\t\t\t[[5, 6, 7], [7, 8, 9]]])\n",
        "print(a.shape)\n",
        "print(a)\n",
        "\n",
        "# 將tensor形狀由[2,2,3]改為[2,6]\n",
        "b = a.reshape(2, 6)\n",
        "c = a.view(2, 6)\n",
        "d = a.reshape(2, -1) #在給定的形狀中，我們可以給 -1，代表這個維度的元素是剩下的所有元素個數\n",
        "print(b.shape, c.shape, d.shape)\n",
        "print(b, c, d)"
      ],
      "execution_count": 23,
      "outputs": [
        {
          "output_type": "stream",
          "text": [
            "torch.Size([2, 2, 3])\n",
            "tensor([[[1, 2, 3],\n",
            "         [3, 4, 5]],\n",
            "\n",
            "        [[5, 6, 7],\n",
            "         [7, 8, 9]]])\n",
            "torch.Size([2, 6]) torch.Size([2, 6]) torch.Size([2, 6])\n",
            "tensor([[1, 2, 3, 3, 4, 5],\n",
            "        [5, 6, 7, 7, 8, 9]]) tensor([[1, 2, 3, 3, 4, 5],\n",
            "        [5, 6, 7, 7, 8, 9]]) tensor([[1, 2, 3, 3, 4, 5],\n",
            "        [5, 6, 7, 7, 8, 9]])\n"
          ],
          "name": "stdout"
        }
      ]
    },
    {
      "cell_type": "code",
      "metadata": {
        "colab": {
          "base_uri": "https://localhost:8080/"
        },
        "id": "_TcmSJDpF4xQ",
        "outputId": "2bca9172-9e16-4c3c-ddd3-42ea7ccf0915"
      },
      "source": [
        "# Example 2 - ### your explanation ###\n",
        "### your code ###\n",
        "a = torch.tensor([[[1, 2, 3], [3, 4, 5]],\n",
        "\t\t\t\t\t\t\t\t\t[[5, 6, 7], [7, 8, 9]]])\n",
        "print(a.shape)\n",
        "print(a)\n",
        "\n",
        "# 將tensor形狀由[2,2,3]改為[4,3]\n",
        "b = a.reshape(4, 3)\n",
        "c = a.view(4, 3)\n",
        "d = a.reshape(3, -1) #在給定的形狀中，我們可以給 -1，代表這個維度的元素是剩下的所有元素個數\n",
        "print(b.shape, c.shape, d.shape)\n",
        "print(b, c, d)"
      ],
      "execution_count": 26,
      "outputs": [
        {
          "output_type": "stream",
          "text": [
            "torch.Size([2, 2, 3])\n",
            "tensor([[[1, 2, 3],\n",
            "         [3, 4, 5]],\n",
            "\n",
            "        [[5, 6, 7],\n",
            "         [7, 8, 9]]])\n",
            "torch.Size([4, 3]) torch.Size([4, 3]) torch.Size([3, 4])\n",
            "tensor([[1, 2, 3],\n",
            "        [3, 4, 5],\n",
            "        [5, 6, 7],\n",
            "        [7, 8, 9]]) tensor([[1, 2, 3],\n",
            "        [3, 4, 5],\n",
            "        [5, 6, 7],\n",
            "        [7, 8, 9]]) tensor([[1, 2, 3, 3],\n",
            "        [4, 5, 5, 6],\n",
            "        [7, 7, 8, 9]])\n"
          ],
          "name": "stdout"
        }
      ]
    },
    {
      "cell_type": "code",
      "metadata": {
        "id": "SwMv1bjyF4xQ"
      },
      "source": [
        ""
      ],
      "execution_count": null,
      "outputs": []
    }
  ]
}