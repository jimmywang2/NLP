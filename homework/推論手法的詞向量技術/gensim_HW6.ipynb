{
 "cells": [
  {
   "cell_type": "markdown",
   "metadata": {},
   "source": [
    "# 作業 : 調整 word2vec 模型的不同訓練參數"
   ]
  },
  {
   "cell_type": "markdown",
   "metadata": {},
   "source": [
    "# [作業目標]\n",
    "- 調整 word2vec 模型的不同參數, 分別觀察效果並比較"
   ]
  },
  {
   "cell_type": "markdown",
   "metadata": {},
   "source": [
    "# Word2Vec 訓練參數\n",
    "- size : 詞向量的維度\n",
    "- min_count : 最小次數，一個詞出現的次數若小於 min_count，則拋棄不參與訓練。\n",
    "- window : 訓練窗格大小，也就是一個詞在看上下文關係時，上下應該各看幾個字的意思。\n",
    "- 更多參數說明，請參閱官方文件\n",
    "https://radimrehurek.com/gensim/models/word2vec.html#gensim.models.word2vec.Text8Corpus"
   ]
  },
  {
   "cell_type": "markdown",
   "metadata": {},
   "source": [
    "# [參考解答]\n",
    "- size : 修改size的話, 會在最後\"顯示字彙的詞向量\"看出詞向量長度的明顯差異, 較短的詞向量訓練較快, \n",
    "    但各項效果較差\n",
    "- min_count : 修改min_count影響不大，但為了避免訓練出無效的詞向量, 建議至少大於等於3。\n",
    "- window : 修改min_count也會影響訓練時間，但一般越長的效果越好，因此我們會在計算時間許可內，選用較大的數值。"
   ]
  },
  {
   "cell_type": "code",
   "execution_count": 1,
   "metadata": {},
   "outputs": [],
   "source": [
    "# 載入 gensim 與 word2vec 模型\n",
    "import gensim\n",
    "from gensim.models import word2vec\n",
    "\n",
    "# 忽略警告訊息\n",
    "import warnings\n",
    "warnings.filterwarnings(\"ignore\")"
   ]
  },
  {
   "cell_type": "code",
   "execution_count": 2,
   "metadata": {},
   "outputs": [],
   "source": [
    "# 使用 gensim 訓練 word2vec 詞向量\n",
    "sentences = word2vec.Text8Corpus('text8/text8')\n",
    "#model = word2vec.Word2Vec(sentences, size=10)\n",
    "model = word2vec.Word2Vec(sentences, size=10, min_count=5, window=10)"
   ]
  },
  {
   "cell_type": "code",
   "execution_count": 3,
   "metadata": {},
   "outputs": [
    {
     "data": {
      "text/plain": [
       "[('encounter', 0.9351571202278137),\n",
       " ('bewildered', 0.93426513671875),\n",
       " ('lover', 0.9243251085281372),\n",
       " ('siblings', 0.922603964805603),\n",
       " ('angry', 0.921463131904602),\n",
       " ('gerson', 0.9181969165802002),\n",
       " ('sad', 0.9180358052253723),\n",
       " ('child', 0.9168809652328491),\n",
       " ('mother', 0.9126884937286377),\n",
       " ('faithless', 0.9063397645950317)]"
      ]
     },
     "execution_count": 3,
     "metadata": {},
     "output_type": "execute_result"
    }
   ],
   "source": [
    "# 顯示最相近的字彙\n",
    "model.most_similar(['woman'])"
   ]
  },
  {
   "cell_type": "code",
   "execution_count": 4,
   "metadata": {},
   "outputs": [
    {
     "data": {
      "text/plain": [
       "[('empress', 0.9592599272727966),\n",
       " ('caliph', 0.9470886588096619),\n",
       " ('deposed', 0.9461420774459839),\n",
       " ('sultan', 0.942925751209259),\n",
       " ('emperor', 0.9424433708190918)]"
      ]
     },
     "execution_count": 4,
     "metadata": {},
     "output_type": "execute_result"
    }
   ],
   "source": [
    "# 顯示最相近的字彙(附加反義詞)\n",
    "model.most_similar(positive=['woman', 'king'], negative=['man'], topn=5)"
   ]
  },
  {
   "cell_type": "code",
   "execution_count": 5,
   "metadata": {},
   "outputs": [
    {
     "data": {
      "text/plain": [
       "'cereal'"
      ]
     },
     "execution_count": 5,
     "metadata": {},
     "output_type": "execute_result"
    }
   ],
   "source": [
    "# 挑選最不相同的字彙\n",
    "model.wv.doesnt_match(\"breakfast cereal dinner lunch\".split())"
   ]
  },
  {
   "cell_type": "code",
   "execution_count": 6,
   "metadata": {},
   "outputs": [
    {
     "data": {
      "text/plain": [
       "0.89447284"
      ]
     },
     "execution_count": 6,
     "metadata": {},
     "output_type": "execute_result"
    }
   ],
   "source": [
    "# 顯示字彙間的相似性\n",
    "model.wv.similarity('woman', 'man')"
   ]
  },
  {
   "cell_type": "code",
   "execution_count": 7,
   "metadata": {},
   "outputs": [
    {
     "data": {
      "text/plain": [
       "array([ 3.7507045 , -4.1265306 ,  4.517017  ,  1.7078241 , -7.4050503 ,\n",
       "        9.753864  , -5.350245  ,  0.39435527,  0.63762635, -1.1913729 ],\n",
       "      dtype=float32)"
      ]
     },
     "execution_count": 7,
     "metadata": {},
     "output_type": "execute_result"
    }
   ],
   "source": [
    "# 顯示字彙的詞向量\n",
    "model['computer']"
   ]
  },
  {
   "cell_type": "code",
   "execution_count": null,
   "metadata": {},
   "outputs": [],
   "source": []
  }
 ],
 "metadata": {
  "kernelspec": {
   "display_name": "Python 3",
   "language": "python",
   "name": "python3"
  },
  "language_info": {
   "codemirror_mode": {
    "name": "ipython",
    "version": 3
   },
   "file_extension": ".py",
   "mimetype": "text/x-python",
   "name": "python",
   "nbconvert_exporter": "python",
   "pygments_lexer": "ipython3",
   "version": "3.7.4"
  }
 },
 "nbformat": 4,
 "nbformat_minor": 2
}
