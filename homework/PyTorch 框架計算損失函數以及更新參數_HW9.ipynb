{
 "cells": [
  {
   "cell_type": "code",
   "execution_count": 1,
   "metadata": {},
   "outputs": [],
   "source": [
    "import torch\n",
    "import torch.nn as nn\n",
    "import torchvision.models as models\n",
    "import torch.nn.functional as F\n",
    "import numpy as np\n",
    "import torch.optim as optim\n"
   ]
  },
  {
   "cell_type": "markdown",
   "metadata": {},
   "source": [
    "### 搭建模型"
   ]
  },
  {
   "cell_type": "code",
   "execution_count": 2,
   "metadata": {},
   "outputs": [],
   "source": [
    "class LinearBNAC(nn.Module):\n",
    "    def __init__(self, in_channels, out_channels, bias=True, dropout=0.3, is_output=False):\n",
    "        super(LinearBNAC, self).__init__()\n",
    "        if is_output and out_channels==1:\n",
    "            self.linear = nn.Sequential(\n",
    "                nn.Linear(in_channels, out_channels, bias=bias),\n",
    "                nn.Sigmoid()\n",
    "            )\n",
    "        elif is_output:\n",
    "            self.linear = nn.Sequential(\n",
    "                nn.Linear(in_channels, out_channels, bias=bias),\n",
    "                nn.Softmax(dim=1)\n",
    "            )   \n",
    "        else:\n",
    "            self.linear = nn.Sequential(\n",
    "                nn.Linear(in_channels, out_channels, bias=bias),\n",
    "                nn.Dropout(dropout),\n",
    "                nn.BatchNorm1d(out_channels),\n",
    "                nn.LeakyReLU(inplace=True)\n",
    "            )\n",
    "            \n",
    "    def forward(self, x):\n",
    "        out=self.linear(x)\n",
    "        return out"
   ]
  },
  {
   "cell_type": "code",
   "execution_count": 10,
   "metadata": {},
   "outputs": [],
   "source": [
    "class Model(nn.Module):\n",
    "    def __init__(self, input_dimention, output_classes=1):\n",
    "        super(Model, self).__init__()\n",
    "        self.layer1 = LinearBNAC(input_dimention, 128)\n",
    "        self.layer2 = \"自行定義，只要確定模型能順利運行即可，參數值沒有一定限制\"\n",
    "        self.layer3 = \"自行定義，只要確定模型能順利運行即可，參數值沒有一定限制\"\n",
    "        self.output = LinearBNAC(32, output_classes, is_output=True)\n",
    "    def forward(self, x):\n",
    "        x = self.layer1(x)\n",
    "        x = self.layer2(x)\n",
    "        x = self.layer3(x)\n",
    "        x = self.output(x)\n",
    "        return x \n",
    "        "
   ]
  },
  {
   "cell_type": "markdown",
   "metadata": {},
   "source": [
    "### 準備輸入資料、優化器、標籤資料、模型輸出"
   ]
  },
  {
   "cell_type": "code",
   "execution_count": 31,
   "metadata": {},
   "outputs": [],
   "source": [
    "model = Model(input_dimention=256,output_classes=10)\n",
    "optimizer = \"使用Adam optimizer\""
   ]
  },
  {
   "cell_type": "code",
   "execution_count": 32,
   "metadata": {},
   "outputs": [],
   "source": [
    "batch_size = 4\n",
    "input_features = 256\n",
    "dummy_input = torch.randn(batch_size, input_features,)\n",
    "\n",
    "#target = torch.empty(4, dtype=torch.float).random_(10)\n",
    "target = torch.tensor([9., 5., 4., 4.], dtype=torch.long)"
   ]
  },
  {
   "cell_type": "code",
   "execution_count": 33,
   "metadata": {},
   "outputs": [
    {
     "name": "stdout",
     "output_type": "stream",
     "text": [
      "tensor([[0.0421, 0.0738, 0.1225, 0.1348, 0.0690, 0.1156, 0.0970, 0.0539, 0.1219,\n",
      "         0.1693],\n",
      "        [0.0542, 0.1019, 0.0638, 0.0874, 0.1024, 0.1207, 0.1127, 0.1087, 0.1327,\n",
      "         0.1156],\n",
      "        [0.0312, 0.1282, 0.0617, 0.1189, 0.1105, 0.1097, 0.1882, 0.0417, 0.1109,\n",
      "         0.0990],\n",
      "        [0.0554, 0.0540, 0.0639, 0.1007, 0.0511, 0.0920, 0.1304, 0.1811, 0.1500,\n",
      "         0.1214]], grad_fn=<SoftmaxBackward>)\n"
     ]
    }
   ],
   "source": [
    "output = model(\"自行輸入\")\n",
    "print(output)"
   ]
  },
  {
   "cell_type": "markdown",
   "metadata": {},
   "source": [
    "### 計算 CrossEntropy Loss\n",
    "* 請注意哪一個 Loss最適合：我們已經使用 softmax\n",
    "* 因為我們有使用dropout，並隨機產生dummy_input，所以各為學員得到的值會與解答不同，然而步驟原理需要相同"
   ]
  },
  {
   "cell_type": "code",
   "execution_count": 43,
   "metadata": {},
   "outputs": [],
   "source": [
    "from torch.nn import NLLLoss, LogSoftmax, CrossEntropyLoss"
   ]
  },
  {
   "cell_type": "code",
   "execution_count": 44,
   "metadata": {},
   "outputs": [],
   "source": [
    "criterion = \"自行輸入\""
   ]
  },
  {
   "cell_type": "code",
   "execution_count": 45,
   "metadata": {},
   "outputs": [],
   "source": [
    "loss = criterion(torch.log(\"自行輸入\"), \"自行輸入\")"
   ]
  },
  {
   "cell_type": "markdown",
   "metadata": {},
   "source": [
    "### 完成back propagation並更新梯度"
   ]
  },
  {
   "cell_type": "code",
   "execution_count": 37,
   "metadata": {},
   "outputs": [],
   "source": [
    "\"自行輸入\""
   ]
  },
  {
   "cell_type": "code",
   "execution_count": 38,
   "metadata": {},
   "outputs": [
    {
     "name": "stdout",
     "output_type": "stream",
     "text": [
      "weight : Parameter containing:\n",
      "tensor([[-0.0010, -0.0383, -0.0060,  ...,  0.0358, -0.0245, -0.0277],\n",
      "        [-0.0432, -0.0382,  0.0384,  ...,  0.0360,  0.0118,  0.0447],\n",
      "        [-0.0276, -0.0522, -0.0146,  ...,  0.0208,  0.0569,  0.0154],\n",
      "        ...,\n",
      "        [ 0.0122, -0.0478,  0.0501,  ..., -0.0181, -0.0309, -0.0114],\n",
      "        [ 0.0263,  0.0399,  0.0579,  ..., -0.0354, -0.0192, -0.0358],\n",
      "        [-0.0495, -0.0101,  0.0543,  ...,  0.0428,  0.0069,  0.0212]],\n",
      "       requires_grad=True)\n",
      "\n",
      "\n",
      "grad : tensor([[ 0.0834, -0.0256, -0.0764,  ...,  0.0718,  0.0144,  0.0422],\n",
      "        [ 0.1144, -0.0429, -0.0292,  ..., -0.0337,  0.0184, -0.0535],\n",
      "        [-0.2403,  0.1393,  0.2140,  ..., -0.1664, -0.1559, -0.0831],\n",
      "        ...,\n",
      "        [-0.2777,  0.1198,  0.1241,  ..., -0.1771,  0.0594, -0.0452],\n",
      "        [-0.0297,  0.1155, -0.0428,  ...,  0.0807, -0.1282,  0.0959],\n",
      "        [ 0.0055, -0.0410, -0.0648,  ...,  0.0877,  0.0826,  0.0698]])\n"
     ]
    }
   ],
   "source": [
    "print('weight : {}'.format(model.layer1.linear[0].weight))\n",
    "print('\\n')\n",
    "print('grad : {}'.format(model.layer1.linear[0].weight.grad))"
   ]
  },
  {
   "cell_type": "code",
   "execution_count": 39,
   "metadata": {},
   "outputs": [],
   "source": [
    "\"自行輸入\""
   ]
  },
  {
   "cell_type": "code",
   "execution_count": 40,
   "metadata": {},
   "outputs": [
    {
     "name": "stdout",
     "output_type": "stream",
     "text": [
      "weight : Parameter containing:\n",
      "tensor([[-0.0020, -0.0373, -0.0050,  ...,  0.0348, -0.0255, -0.0287],\n",
      "        [-0.0442, -0.0372,  0.0394,  ...,  0.0370,  0.0108,  0.0457],\n",
      "        [-0.0266, -0.0532, -0.0156,  ...,  0.0218,  0.0579,  0.0164],\n",
      "        ...,\n",
      "        [ 0.0132, -0.0488,  0.0491,  ..., -0.0171, -0.0319, -0.0104],\n",
      "        [ 0.0273,  0.0389,  0.0589,  ..., -0.0364, -0.0182, -0.0368],\n",
      "        [-0.0505, -0.0091,  0.0553,  ...,  0.0418,  0.0059,  0.0202]],\n",
      "       requires_grad=True)\n",
      "\n",
      "\n",
      "grad : tensor([[ 0.0834, -0.0256, -0.0764,  ...,  0.0718,  0.0144,  0.0422],\n",
      "        [ 0.1144, -0.0429, -0.0292,  ..., -0.0337,  0.0184, -0.0535],\n",
      "        [-0.2403,  0.1393,  0.2140,  ..., -0.1664, -0.1559, -0.0831],\n",
      "        ...,\n",
      "        [-0.2777,  0.1198,  0.1241,  ..., -0.1771,  0.0594, -0.0452],\n",
      "        [-0.0297,  0.1155, -0.0428,  ...,  0.0807, -0.1282,  0.0959],\n",
      "        [ 0.0055, -0.0410, -0.0648,  ...,  0.0877,  0.0826,  0.0698]])\n"
     ]
    }
   ],
   "source": [
    "print('weight : {}'.format(model.layer1.linear[0].weight))\n",
    "print('\\n')\n",
    "print('grad : {}'.format(model.layer1.linear[0].weight.grad))"
   ]
  },
  {
   "cell_type": "markdown",
   "metadata": {},
   "source": [
    "### 清空 gradient"
   ]
  },
  {
   "cell_type": "code",
   "execution_count": 41,
   "metadata": {},
   "outputs": [],
   "source": [
    "\"自行輸入\""
   ]
  },
  {
   "cell_type": "code",
   "execution_count": 42,
   "metadata": {},
   "outputs": [
    {
     "name": "stdout",
     "output_type": "stream",
     "text": [
      "weight : Parameter containing:\n",
      "tensor([[-0.0020, -0.0373, -0.0050,  ...,  0.0348, -0.0255, -0.0287],\n",
      "        [-0.0442, -0.0372,  0.0394,  ...,  0.0370,  0.0108,  0.0457],\n",
      "        [-0.0266, -0.0532, -0.0156,  ...,  0.0218,  0.0579,  0.0164],\n",
      "        ...,\n",
      "        [ 0.0132, -0.0488,  0.0491,  ..., -0.0171, -0.0319, -0.0104],\n",
      "        [ 0.0273,  0.0389,  0.0589,  ..., -0.0364, -0.0182, -0.0368],\n",
      "        [-0.0505, -0.0091,  0.0553,  ...,  0.0418,  0.0059,  0.0202]],\n",
      "       requires_grad=True)\n",
      "\n",
      "\n",
      "grad : tensor([[0., 0., 0.,  ..., 0., 0., 0.],\n",
      "        [0., 0., 0.,  ..., 0., 0., 0.],\n",
      "        [0., 0., 0.,  ..., 0., 0., 0.],\n",
      "        ...,\n",
      "        [0., 0., 0.,  ..., 0., 0., 0.],\n",
      "        [0., 0., 0.,  ..., 0., 0., 0.],\n",
      "        [0., 0., 0.,  ..., 0., 0., 0.]])\n"
     ]
    }
   ],
   "source": [
    "print('weight : {}'.format(model.layer1.linear[0].weight))\n",
    "print('\\n')\n",
    "print('grad : {}'.format(model.layer1.linear[0].weight.grad))"
   ]
  }
 ],
 "metadata": {
  "kernelspec": {
   "display_name": "Python 3",
   "language": "python",
   "name": "python3"
  },
  "language_info": {
   "codemirror_mode": {
    "name": "ipython",
    "version": 3
   },
   "file_extension": ".py",
   "mimetype": "text/x-python",
   "name": "python",
   "nbconvert_exporter": "python",
   "pygments_lexer": "ipython3",
   "version": "3.7.4"
  }
 },
 "nbformat": 4,
 "nbformat_minor": 2
}
